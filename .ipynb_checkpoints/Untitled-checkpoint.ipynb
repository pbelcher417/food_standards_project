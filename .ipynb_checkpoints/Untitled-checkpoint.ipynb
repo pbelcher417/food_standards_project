{
 "cells": [
  {
   "cell_type": "code",
   "execution_count": 28,
   "id": "37db9631-e6a5-4089-991e-58e254483ccd",
   "metadata": {},
   "outputs": [],
   "source": [
    "import requests\n",
    "import pandas as pd\n",
    "import json\n",
    "import xml.etree.ElementTree as ET"
   ]
  },
  {
   "cell_type": "code",
   "execution_count": 29,
   "id": "0a64cfa3-a403-4cc6-a135-483adbbc3726",
   "metadata": {},
   "outputs": [],
   "source": [
    "# Base URL for the API\n",
    "BASE_URL = 'https://api.ratings.food.gov.uk/'\n",
    "\n",
    "# Headers including the API key for authorization\n",
    "headers = {\n",
    "    'x-api-version': '2',  # Version 2 of the API\n",
    "    'accept': 'application/json'\n",
    "}\n",
    "\n",
    "# Endpoint to get local authority data\n",
    "endpoint = 'Authorities'"
   ]
  },
  {
   "cell_type": "code",
   "execution_count": 30,
   "id": "d69ed846-838d-4194-ac20-7ce292b9d91d",
   "metadata": {},
   "outputs": [],
   "source": [
    "def get_authorities():\n",
    "    try:\n",
    "        response = requests.get(BASE_URL + endpoint, headers=headers)\n",
    "        \n",
    "        # Check if the request was successful\n",
    "        if response.status_code == 200:\n",
    "            authorities = response.json()  # Convert response to JSON\n",
    "            return authorities\n",
    "        else:\n",
    "            print(f\"Failed to retrieve data: {response.status_code}\")\n",
    "            return None\n",
    "    except Exception as e:\n",
    "        print(f\"An error occurred: {e}\")\n",
    "        return None"
   ]
  },
  {
   "cell_type": "code",
   "execution_count": 31,
   "id": "2b826446-ddbf-4d12-961b-93ba2e0925f2",
   "metadata": {},
   "outputs": [],
   "source": [
    "def parse_establishment(element):\n",
    "    establishments = []\n",
    "    for est in element:\n",
    "        est_data = {child.tag: child.text for child in est}\n",
    "        \n",
    "        # Flatten Geocode\n",
    "        geocode = est.find('Geocode')\n",
    "        if geocode is not None:\n",
    "            est_data['Longitude'] = geocode.findtext('Longitude')\n",
    "            est_data['Latitude'] = geocode.findtext('Latitude')\n",
    "        \n",
    "        establishments.append(est_data)\n",
    "    return establishments "
   ]
  },
  {
   "cell_type": "code",
   "execution_count": 69,
   "id": "ec6a2057-014b-4e5f-b57d-ee5eb6bb3817",
   "metadata": {},
   "outputs": [],
   "source": [
    "def xml_to_df(xml_url):\n",
    "\n",
    "    response = requests.get(xml_url)\n",
    "    xml_data = response.content\n",
    "    \n",
    "    root = ET.ElementTree(ET.fromstring(xml_data)).getroot()\n",
    "    # Parse the XML data from the EstablishmentCollection\n",
    "    records = parse_establishment(root.find('EstablishmentCollection'))\n",
    "\n",
    "    return records"
   ]
  },
  {
   "cell_type": "code",
   "execution_count": null,
   "id": "c70e02e7-0e7d-4f21-8913-34269709544e",
   "metadata": {},
   "outputs": [],
   "source": [
    "if __name__ == '__main__':\n",
    "    for authority in authority_data['authorities']:\n",
    "        #print(authority['FileName']\n",
    "        result = xml_to_df(authority['FileName'])\n",
    "    \n",
    "        results.extend(result)\n",
    "    \n",
    "    df = pd.DataFrame(results)"
   ]
  },
  {
   "cell_type": "code",
   "execution_count": null,
   "id": "6a289d83-009b-4f7e-b024-80c6ba650c69",
   "metadata": {},
   "outputs": [],
   "source": []
  }
 ],
 "metadata": {
  "kernelspec": {
   "display_name": "Python 3 (ipykernel)",
   "language": "python",
   "name": "python3"
  },
  "language_info": {
   "codemirror_mode": {
    "name": "ipython",
    "version": 3
   },
   "file_extension": ".py",
   "mimetype": "text/x-python",
   "name": "python",
   "nbconvert_exporter": "python",
   "pygments_lexer": "ipython3",
   "version": "3.11.7"
  }
 },
 "nbformat": 4,
 "nbformat_minor": 5
}
