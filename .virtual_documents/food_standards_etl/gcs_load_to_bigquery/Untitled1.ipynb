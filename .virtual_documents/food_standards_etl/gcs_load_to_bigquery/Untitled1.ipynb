# flake8: noqa
import os
from typing import Iterator

import dlt
from dlt.sources import TDataItems
from dlt.sources.filesystem import FileItemDict, filesystem, readers, read_csv


# where the test files are, those examples work with (url)
TESTS_BUCKET_URL = "gs://food-standards-data"


all_files = filesystem(bucket_url= TESTS_BUCKET_URL, file_glob="**/*.parquet")


for file in all_files:
    print(file)


print(dlt.secrets.value)


dlt.secrets.sources.filesystem.credentials


for resource in dlt.secrets:
    print(resource)



