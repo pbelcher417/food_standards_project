{
 "cells": [
  {
   "cell_type": "code",
   "execution_count": 12,
   "id": "c5985913-3421-48c1-9bb7-ec2fe7a97871",
   "metadata": {},
   "outputs": [],
   "source": [
    "# flake8: noqa\n",
    "import os\n",
    "from typing import Iterator\n",
    "\n",
    "import dlt\n",
    "from dlt.sources import TDataItems\n",
    "from dlt.sources.filesystem import FileItemDict, filesystem, readers, read_csv\n",
    "\n",
    "\n",
    "# where the test files are, those examples work with (url)\n",
    "TESTS_BUCKET_URL = \"gs://food-standards-data\""
   ]
  },
  {
   "cell_type": "code",
   "execution_count": 13,
   "id": "87833bbc-89aa-4391-a4fb-5aa5b974b188",
   "metadata": {},
   "outputs": [],
   "source": [
    "all_files = filesystem(bucket_url= TESTS_BUCKET_URL, file_glob=\"**/*.parquet\")"
   ]
  },
  {
   "cell_type": "code",
   "execution_count": 14,
   "id": "cf3a03cf-a05f-4caf-bfeb-d7cadb212d2b",
   "metadata": {},
   "outputs": [
    {
     "name": "stdout",
     "output_type": "stream",
     "text": [
      "{'file_name': 'food_standards_extract.parquet', 'relative_path': 'food_standards_extract.parquet', 'file_url': 'gs://food-standards-data/food_standards_extract.parquet', 'mime_type': 'application/parquet', 'encoding': None, 'modification_date': DateTime(2024, 11, 4, 23, 7, 11, 715000, tzinfo=Timezone('UTC')), 'size_in_bytes': 35523853}\n"
     ]
    }
   ],
   "source": [
    "for file in all_files:\n",
    "    print(file)"
   ]
  },
  {
   "cell_type": "code",
   "execution_count": 18,
   "id": "364ed4bd-aecd-4d3e-8f57-4bc99537f627",
   "metadata": {},
   "outputs": [
    {
     "name": "stdout",
     "output_type": "stream",
     "text": [
      "SecretValue(dlt.secrets.value) awaiting injection\n"
     ]
    }
   ],
   "source": [
    "print(dlt.secrets.value)"
   ]
  },
  {
   "cell_type": "code",
   "execution_count": 16,
   "id": "7ead27cd-7514-4c54-9e3f-9c2306d7447f",
   "metadata": {},
   "outputs": [
    {
     "ename": "AttributeError",
     "evalue": "'_SecretsAccessor' object has no attribute 'sources'",
     "output_type": "error",
     "traceback": [
      "\u001b[1;31m---------------------------------------------------------------------------\u001b[0m",
      "\u001b[1;31mAttributeError\u001b[0m                            Traceback (most recent call last)",
      "Cell \u001b[1;32mIn[16], line 1\u001b[0m\n\u001b[1;32m----> 1\u001b[0m dlt\u001b[38;5;241m.\u001b[39msecrets\u001b[38;5;241m.\u001b[39msources\u001b[38;5;241m.\u001b[39mfilesystem\u001b[38;5;241m.\u001b[39mcredentials\n",
      "\u001b[1;31mAttributeError\u001b[0m: '_SecretsAccessor' object has no attribute 'sources'"
     ]
    }
   ],
   "source": [
    "dlt.secrets.sources.filesystem.credentials"
   ]
  },
  {
   "cell_type": "code",
   "execution_count": 17,
   "id": "47088982-bee0-42b2-b033-7f928714e8b0",
   "metadata": {},
   "outputs": [
    {
     "ename": "AttributeError",
     "evalue": "'int' object has no attribute 'split'",
     "output_type": "error",
     "traceback": [
      "\u001b[1;31m---------------------------------------------------------------------------\u001b[0m",
      "\u001b[1;31mAttributeError\u001b[0m                            Traceback (most recent call last)",
      "Cell \u001b[1;32mIn[17], line 1\u001b[0m\n\u001b[1;32m----> 1\u001b[0m \u001b[38;5;28;01mfor\u001b[39;00m resource \u001b[38;5;129;01min\u001b[39;00m dlt\u001b[38;5;241m.\u001b[39msecrets:\n\u001b[0;32m      2\u001b[0m     \u001b[38;5;28mprint\u001b[39m(resource)\n",
      "File \u001b[1;32m~\\anaconda3\\envs\\food_standards\\Lib\\site-packages\\dlt\\common\\configuration\\accessors.py:17\u001b[0m, in \u001b[0;36m_Accessor.__getitem__\u001b[1;34m(self, field)\u001b[0m\n\u001b[0;32m     16\u001b[0m \u001b[38;5;28;01mdef\u001b[39;00m \u001b[38;5;21m__getitem__\u001b[39m(\u001b[38;5;28mself\u001b[39m, field: \u001b[38;5;28mstr\u001b[39m) \u001b[38;5;241m-\u001b[39m\u001b[38;5;241m>\u001b[39m Any:\n\u001b[1;32m---> 17\u001b[0m     value, traces \u001b[38;5;241m=\u001b[39m \u001b[38;5;28mself\u001b[39m\u001b[38;5;241m.\u001b[39m_get_value(field)\n\u001b[0;32m     18\u001b[0m     \u001b[38;5;28;01mif\u001b[39;00m value \u001b[38;5;129;01mis\u001b[39;00m \u001b[38;5;28;01mNone\u001b[39;00m:\n\u001b[0;32m     19\u001b[0m         \u001b[38;5;28;01mraise\u001b[39;00m ConfigFieldMissingException(\u001b[38;5;124m\"\u001b[39m\u001b[38;5;124mAny\u001b[39m\u001b[38;5;124m\"\u001b[39m, {field: traces})\n",
      "File \u001b[1;32m~\\anaconda3\\envs\\food_standards\\Lib\\site-packages\\dlt\\common\\configuration\\accessors.py:63\u001b[0m, in \u001b[0;36m_Accessor._get_value\u001b[1;34m(self, field, type_hint)\u001b[0m\n\u001b[0;32m     61\u001b[0m type_hint \u001b[38;5;241m=\u001b[39m type_hint \u001b[38;5;129;01mor\u001b[39;00m \u001b[38;5;28mself\u001b[39m\u001b[38;5;241m.\u001b[39mdefault_type\n\u001b[0;32m     62\u001b[0m \u001b[38;5;66;03m# split field into sections and a key\u001b[39;00m\n\u001b[1;32m---> 63\u001b[0m sections \u001b[38;5;241m=\u001b[39m field\u001b[38;5;241m.\u001b[39msplit(\u001b[38;5;124m\"\u001b[39m\u001b[38;5;124m.\u001b[39m\u001b[38;5;124m\"\u001b[39m)\n\u001b[0;32m     64\u001b[0m key \u001b[38;5;241m=\u001b[39m sections\u001b[38;5;241m.\u001b[39mpop()\n\u001b[0;32m     65\u001b[0m value \u001b[38;5;241m=\u001b[39m \u001b[38;5;28;01mNone\u001b[39;00m\n",
      "\u001b[1;31mAttributeError\u001b[0m: 'int' object has no attribute 'split'"
     ]
    }
   ],
   "source": [
    "for resource in dlt.secrets:\n",
    "    print(resource)"
   ]
  },
  {
   "cell_type": "code",
   "execution_count": null,
   "id": "3cd06dbd-c313-470e-9107-ce0e342623f1",
   "metadata": {},
   "outputs": [],
   "source": []
  }
 ],
 "metadata": {
  "kernelspec": {
   "display_name": "Python 3 (ipykernel)",
   "language": "python",
   "name": "python3"
  },
  "language_info": {
   "codemirror_mode": {
    "name": "ipython",
    "version": 3
   },
   "file_extension": ".py",
   "mimetype": "text/x-python",
   "name": "python",
   "nbconvert_exporter": "python",
   "pygments_lexer": "ipython3",
   "version": "3.11.7"
  }
 },
 "nbformat": 4,
 "nbformat_minor": 5
}
